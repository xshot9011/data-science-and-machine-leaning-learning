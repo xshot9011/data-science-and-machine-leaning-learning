{
 "cells": [
  {
   "cell_type": "markdown",
   "metadata": {},
   "source": [
    "# Notebook imports"
   ]
  },
  {
   "cell_type": "code",
   "execution_count": 1,
   "metadata": {},
   "outputs": [],
   "source": [
    "import pandas as pd\n",
    "import numpy as np\n",
    "import matplotlib.pyplot as plt\n",
    "import seaborn as sns\n",
    "\n",
    "%matplotlib inline"
   ]
  },
  {
   "cell_type": "markdown",
   "metadata": {},
   "source": [
    "# Constant"
   ]
  },
  {
   "cell_type": "code",
   "execution_count": 2,
   "metadata": {},
   "outputs": [],
   "source": [
    "SPAM = 1\n",
    "NON_SPAM = 0\n",
    "\n",
    "DATA_PATH = 'email-data.json'\n",
    "TRAINING_DATA_FILE = 'data-grouped/train-data.txt'\n",
    "TEST_DATA_FILE = 'data-grouped/test-data.txt'\n",
    "\n",
    "TOKEN_SPAM_PROB_FILE = 'token-data/prob-spam.txt'\n",
    "TOKEN_NON_SPAM_PROB_FILE = 'token-data/prob-non-spam.txt'\n",
    "TOKEN_ALL_PROB_FILE = 'token-data/prob-all-token.txt'\n",
    "\n",
    "TEST_FEATURE_MATRIX = 'test-features.txt'\n",
    "TEST_TARGET_FILE = 'test-target.txt'\n",
    "\n",
    "VOCAB_FILE = 'spam_word.csv'\n",
    "VOCAB_SIZE = 2500"
   ]
  },
  {
   "cell_type": "markdown",
   "metadata": {},
   "source": [
    "# Load the Data"
   ]
  },
  {
   "cell_type": "code",
   "execution_count": 27,
   "metadata": {},
   "outputs": [
    {
     "name": "stdout",
     "output_type": "stream",
     "text": [
      "(2500,)\n",
      "(2500,)\n",
      "(2500,)\n"
     ]
    }
   ],
   "source": [
    "X_test = np.loadtxt(TEST_FEATURE_MATRIX, delimiter=' ')\n",
    "y_test = np.loadtxt(TEST_TARGET_FILE, delimiter=' ')\n",
    "# Token probability\n",
    "prob_token_spam = np.loadtxt(TOKEN_SPAM_PROB_FILE, delimiter=' ')\n",
    "prob_token_non_spam = np.loadtxt(TOKEN_NON_SPAM_PROB_FILE, delimiter=' ')\n",
    "prob_all_token = np.loadtxt(TOKEN_ALL_PROB_FILE, delimiter=' ')\n",
    "print(prob_token_spam.shape)\n",
    "print(prob_token_non_spam.shape)\n",
    "print(prob_all_token.shape)"
   ]
  },
  {
   "cell_type": "markdown",
   "metadata": {},
   "source": [
    "# Calculate the joint Probability"
   ]
  },
  {
   "cell_type": "code",
   "execution_count": 9,
   "metadata": {},
   "outputs": [
    {
     "name": "stdout",
     "output_type": "stream",
     "text": [
      "X_test shape : (1724, 2500)\n",
      "shape of the dot product is : (1724,)\n"
     ]
    }
   ],
   "source": [
    "# dot product >> row * col\n",
    "print('X_test shape :', X_test.shape)  # 1724 row with 2500 column\n",
    "# (1724)*2500  dot 2500*(1) >> (1724, 1)\n",
    "print('shape of the dot product is :', X_test.dot(prob_token_spam).shape)"
   ]
  },
  {
   "cell_type": "markdown",
   "metadata": {},
   "source": [
    "## Set the Prior\n",
    "$$ P(Spam \\, | \\, X) = \\frac{P(X \\, | \\, Spam \\,) \\, P(Spam)}{P(X)} $$\n",
    "\n",
    "we have to change it to\n",
    "\n",
    "$$ \\log(P(Spam \\, | \\, X)) = [\\log(P(X \\, | \\, Spam) \\, - \\log(P(X))] + \\log(P(Spam))$$"
   ]
  },
  {
   "cell_type": "code",
   "execution_count": 16,
   "metadata": {},
   "outputs": [],
   "source": [
    "PROB_SPAM = 0.3116  # we used to calculate it above"
   ]
  },
  {
   "cell_type": "code",
   "execution_count": 28,
   "metadata": {},
   "outputs": [
    {
     "data": {
      "text/plain": [
       "array([ -4.45593772,  -4.5278221 ,  -4.72646568, ...,  -9.94441621,\n",
       "        -9.65673414, -10.19573064])"
      ]
     },
     "execution_count": 28,
     "metadata": {},
     "output_type": "execute_result"
    }
   ],
   "source": [
    "# this is how to call the log function from numpy as np\n",
    "np.log(prob_token_spam)"
   ]
  },
  {
   "cell_type": "markdown",
   "metadata": {},
   "source": [
    "# Joint probability in log format"
   ]
  },
  {
   "cell_type": "code",
   "execution_count": 33,
   "metadata": {},
   "outputs": [
    {
     "data": {
      "text/plain": [
       "array([ 6.24745578, -0.52584466, 12.61619551, 13.3232053 , 17.04939639])"
      ]
     },
     "execution_count": 33,
     "metadata": {},
     "output_type": "execute_result"
    }
   ],
   "source": [
    "joint_log_spam = X_test.dot(np.log(prob_token_spam) - np.log(prob_all_token)) + np.log(PROB_SPAM)\n",
    "joint_log_spam[:5]"
   ]
  },
  {
   "cell_type": "markdown",
   "metadata": {},
   "source": [
    "$$ P(NonSpam \\, | \\, x) = \\frac{P(X \\, | \\, NonSpam \\,) \\, P(NonSpam)}{P(X)} $$"
   ]
  },
  {
   "cell_type": "code",
   "execution_count": 34,
   "metadata": {},
   "outputs": [
    {
     "data": {
      "text/plain": [
       "array([-46.63338735, -10.78450467, -30.55966671, -69.33836163,\n",
       "       -68.4458674 ])"
      ]
     },
     "execution_count": 34,
     "metadata": {},
     "output_type": "execute_result"
    }
   ],
   "source": [
    "joint_log_non_spam = X_test.dot(np.log(prob_token_non_spam) - np.log(prob_all_token)) + np.log(1-PROB_SPAM)\n",
    "joint_log_non_spam[:5]"
   ]
  },
  {
   "cell_type": "markdown",
   "metadata": {},
   "source": [
    "# Making Predictions\n",
    "\n",
    "### Checking for the higher joint probability\n",
    "\n",
    "$$ P(Spam \\, | \\, x) > P(NonSpam \\, | \\, x)$$\n",
    "<br>\n",
    "<center>**or**</center>\n",
    "<br>\n",
    "$$ P(Spam \\, | \\, x) < P(NonSpam \\, | \\, x)$$\n",
    "\n",
    "**Challenge** Can you create the vector of prediction, out y^ ? Remember that spam should have the value 1(true) and non-spam emails should have the value 0(false). Store your result in a variable calles prediction"
   ]
  },
  {
   "cell_type": "code",
   "execution_count": 36,
   "metadata": {},
   "outputs": [
    {
     "data": {
      "text/plain": [
       "array([ True,  True,  True, ..., False, False, False])"
      ]
     },
     "execution_count": 36,
     "metadata": {},
     "output_type": "execute_result"
    }
   ],
   "source": [
    "prediction = joint_log_spam > joint_log_non_spam\n",
    "prediction"
   ]
  },
  {
   "cell_type": "code",
   "execution_count": 37,
   "metadata": {},
   "outputs": [
    {
     "data": {
      "text/plain": [
       "array([1., 1., 1., ..., 0., 0., 0.])"
      ]
     },
     "execution_count": 37,
     "metadata": {},
     "output_type": "execute_result"
    }
   ],
   "source": [
    "y_test  # look like the same above"
   ]
  },
  {
   "cell_type": "markdown",
   "metadata": {},
   "source": [
    "## Simplification\n",
    "\n",
    "$$ P(Spam \\, | \\, X) = \\frac{P(X \\, | \\, Spam \\,) \\, P(Spam)}{P(X)} $$\n",
    "\n",
    "$$ P(NonSpam \\, | \\, x) = \\frac{P(X \\, | \\, NonSpam \\,) \\, P(NonSpam)}{P(X)} $$\n",
    "\n",
    "Did you see something it is divide with the smae fraction P(X) so we can remove it and get the same result\n",
    "\n",
    "$$\\frac{P(X \\, | \\, NonSpam \\,) \\, P(NonSpam)}{P(X)} <  \\frac{P(X \\, | \\, Spam \\,) \\, P(Spam)}{P(X)} $$\n",
    "or\n",
    "$$\\frac{P(X \\, | \\, NonSpam \\,) \\, P(NonSpam)}{P(X)} >  \\frac{P(X \\, | \\, Spam \\,) \\, P(Spam)}{P(X)} $$"
   ]
  },
  {
   "cell_type": "code",
   "execution_count": 38,
   "metadata": {},
   "outputs": [],
   "source": [
    "joint_log_spam = X_test.dot(np.log(prob_token_spam)) + np.log(PROB_SPAM)\n",
    "joint_log_non_spam = X_test.dot(np.log(prob_token_non_spam)) + np.log(1-PROB_SPAM)"
   ]
  },
  {
   "cell_type": "code",
   "execution_count": 39,
   "metadata": {},
   "outputs": [],
   "source": [
    "new_prediction = joint_log_spam > joint_log_non_spam"
   ]
  },
  {
   "cell_type": "code",
   "execution_count": 44,
   "metadata": {},
   "outputs": [
    {
     "data": {
      "text/plain": [
       "False"
      ]
     },
     "execution_count": 44,
     "metadata": {},
     "output_type": "execute_result"
    }
   ],
   "source": [
    "((prediction == new_prediction) == False).any()"
   ]
  },
  {
   "cell_type": "code",
   "execution_count": null,
   "metadata": {},
   "outputs": [],
   "source": []
  }
 ],
 "metadata": {
  "kernelspec": {
   "display_name": "Python 3",
   "language": "python",
   "name": "python3"
  },
  "language_info": {
   "codemirror_mode": {
    "name": "ipython",
    "version": 3
   },
   "file_extension": ".py",
   "mimetype": "text/x-python",
   "name": "python",
   "nbconvert_exporter": "python",
   "pygments_lexer": "ipython3",
   "version": "3.7.6"
  }
 },
 "nbformat": 4,
 "nbformat_minor": 4
}
