{
 "cells": [
  {
   "cell_type": "markdown",
   "metadata": {},
   "source": [
    "# Imports"
   ]
  },
  {
   "cell_type": "code",
   "execution_count": 1,
   "metadata": {},
   "outputs": [
    {
     "name": "stderr",
     "output_type": "stream",
     "text": [
      "C:\\Users\\b\\anaconda3\\lib\\site-packages\\tensorflow\\python\\framework\\dtypes.py:516: FutureWarning: Passing (type, 1) or '1type' as a synonym of type is deprecated; in a future version of numpy, it will be understood as (type, (1,)) / '(1,)type'.\n",
      "  _np_qint8 = np.dtype([(\"qint8\", np.int8, 1)])\n",
      "C:\\Users\\b\\anaconda3\\lib\\site-packages\\tensorflow\\python\\framework\\dtypes.py:517: FutureWarning: Passing (type, 1) or '1type' as a synonym of type is deprecated; in a future version of numpy, it will be understood as (type, (1,)) / '(1,)type'.\n",
      "  _np_quint8 = np.dtype([(\"quint8\", np.uint8, 1)])\n",
      "C:\\Users\\b\\anaconda3\\lib\\site-packages\\tensorflow\\python\\framework\\dtypes.py:518: FutureWarning: Passing (type, 1) or '1type' as a synonym of type is deprecated; in a future version of numpy, it will be understood as (type, (1,)) / '(1,)type'.\n",
      "  _np_qint16 = np.dtype([(\"qint16\", np.int16, 1)])\n",
      "C:\\Users\\b\\anaconda3\\lib\\site-packages\\tensorflow\\python\\framework\\dtypes.py:519: FutureWarning: Passing (type, 1) or '1type' as a synonym of type is deprecated; in a future version of numpy, it will be understood as (type, (1,)) / '(1,)type'.\n",
      "  _np_quint16 = np.dtype([(\"quint16\", np.uint16, 1)])\n",
      "C:\\Users\\b\\anaconda3\\lib\\site-packages\\tensorflow\\python\\framework\\dtypes.py:520: FutureWarning: Passing (type, 1) or '1type' as a synonym of type is deprecated; in a future version of numpy, it will be understood as (type, (1,)) / '(1,)type'.\n",
      "  _np_qint32 = np.dtype([(\"qint32\", np.int32, 1)])\n",
      "C:\\Users\\b\\anaconda3\\lib\\site-packages\\tensorflow\\python\\framework\\dtypes.py:525: FutureWarning: Passing (type, 1) or '1type' as a synonym of type is deprecated; in a future version of numpy, it will be understood as (type, (1,)) / '(1,)type'.\n",
      "  np_resource = np.dtype([(\"resource\", np.ubyte, 1)])\n",
      "C:\\Users\\b\\anaconda3\\lib\\site-packages\\tensorboard\\compat\\tensorflow_stub\\dtypes.py:541: FutureWarning: Passing (type, 1) or '1type' as a synonym of type is deprecated; in a future version of numpy, it will be understood as (type, (1,)) / '(1,)type'.\n",
      "  _np_qint8 = np.dtype([(\"qint8\", np.int8, 1)])\n",
      "C:\\Users\\b\\anaconda3\\lib\\site-packages\\tensorboard\\compat\\tensorflow_stub\\dtypes.py:542: FutureWarning: Passing (type, 1) or '1type' as a synonym of type is deprecated; in a future version of numpy, it will be understood as (type, (1,)) / '(1,)type'.\n",
      "  _np_quint8 = np.dtype([(\"quint8\", np.uint8, 1)])\n",
      "C:\\Users\\b\\anaconda3\\lib\\site-packages\\tensorboard\\compat\\tensorflow_stub\\dtypes.py:543: FutureWarning: Passing (type, 1) or '1type' as a synonym of type is deprecated; in a future version of numpy, it will be understood as (type, (1,)) / '(1,)type'.\n",
      "  _np_qint16 = np.dtype([(\"qint16\", np.int16, 1)])\n",
      "C:\\Users\\b\\anaconda3\\lib\\site-packages\\tensorboard\\compat\\tensorflow_stub\\dtypes.py:544: FutureWarning: Passing (type, 1) or '1type' as a synonym of type is deprecated; in a future version of numpy, it will be understood as (type, (1,)) / '(1,)type'.\n",
      "  _np_quint16 = np.dtype([(\"quint16\", np.uint16, 1)])\n",
      "C:\\Users\\b\\anaconda3\\lib\\site-packages\\tensorboard\\compat\\tensorflow_stub\\dtypes.py:545: FutureWarning: Passing (type, 1) or '1type' as a synonym of type is deprecated; in a future version of numpy, it will be understood as (type, (1,)) / '(1,)type'.\n",
      "  _np_qint32 = np.dtype([(\"qint32\", np.int32, 1)])\n",
      "C:\\Users\\b\\anaconda3\\lib\\site-packages\\tensorboard\\compat\\tensorflow_stub\\dtypes.py:550: FutureWarning: Passing (type, 1) or '1type' as a synonym of type is deprecated; in a future version of numpy, it will be understood as (type, (1,)) / '(1,)type'.\n",
      "  np_resource = np.dtype([(\"resource\", np.ubyte, 1)])\n"
     ]
    }
   ],
   "source": [
    "from numpy.random import seed\n",
    "seed(888)\n",
    "from tensorflow import set_random_seed\n",
    "set_random_seed(404)"
   ]
  },
  {
   "cell_type": "code",
   "execution_count": 69,
   "metadata": {},
   "outputs": [],
   "source": [
    "import os\n",
    "import numpy as np\n",
    "import tensorflow as tf\n",
    "import itertools\n",
    "\n",
    "import keras\n",
    "from keras.datasets import cifar10\n",
    "from keras.models import Sequential\n",
    "from keras.layers import Dense, Activation, Dropout\n",
    "\n",
    "from IPython.display import display\n",
    "from keras.preprocessing.image import array_to_img\n",
    "from keras.callbacks import TensorBoard\n",
    "\n",
    "from time import strftime\n",
    "\n",
    "from sklearn.metrics import confusion_matrix\n",
    "\n",
    "import matplotlib.pyplot as plt\n",
    "\n",
    "%matplotlib inline"
   ]
  },
  {
   "cell_type": "markdown",
   "metadata": {},
   "source": [
    "# Constants"
   ]
  },
  {
   "cell_type": "code",
   "execution_count": 3,
   "metadata": {},
   "outputs": [],
   "source": [
    "LOG_DIR = 'tensorboard_cifar_logs/'\n",
    "\n",
    "LABEL_NAMES = ['Plane', 'Car', 'Bird', 'Cat', 'Deer', 'Dog', 'Frog', 'Horse', 'Ship', 'Truck']\n",
    "IMAGE_WIDTH = 32\n",
    "IMAGE_HEIGHT = 32\n",
    "IMAGE_PIXELS = IMAGE_WIDTH * IMAGE_HEIGHT\n",
    "COLOR_CHANNELS = 3\n",
    "TOTAL_INPUTS = IMAGE_PIXELS * COLOR_CHANNELS\n",
    "\n",
    "VALIDATION_SIZE = 10000\n",
    "SMALL_TRAIN_SIZE = 1000"
   ]
  },
  {
   "cell_type": "markdown",
   "metadata": {},
   "source": [
    "# Get the data"
   ]
  },
  {
   "cell_type": "code",
   "execution_count": 4,
   "metadata": {},
   "outputs": [],
   "source": [
    "(x_train_all, y_train_all), (x_test, y_test) = cifar10.load_data()  # from the documentation"
   ]
  },
  {
   "cell_type": "markdown",
   "metadata": {},
   "source": [
    "# Explor data"
   ]
  },
  {
   "cell_type": "code",
   "execution_count": 32,
   "metadata": {},
   "outputs": [
    {
     "name": "stdout",
     "output_type": "stream",
     "text": [
      "class : 0\n",
      "type : Plane\n"
     ]
    },
    {
     "data": {
      "image/png": "[encoded data removed]",
      "text/plain": [
       "<PIL.Image.Image image mode=RGB size=32x32 at 0x2308B0C30C8>"
      ]
     },
     "metadata": {},
     "output_type": "display_data"
    }
   ],
   "source": [
    "# the first way to explore\n",
    "image_order = 199\n",
    "pic = array_to_img(x_train_all[image_order])\n",
    "print('class :', y_train_all[image_order][0])\n",
    "print('type :', LABEL_NAMES[y_train_all[image_order][0]])\n",
    "display(pic)"
   ]
  },
  {
   "cell_type": "code",
   "execution_count": 33,
   "metadata": {},
   "outputs": [
    {
     "data": {
      "image/png": "[encoded data removed]",
      "text/plain": [
       "<Figure size 432x288 with 1 Axes>"
      ]
     },
     "metadata": {
      "needs_background": "light"
     },
     "output_type": "display_data"
    }
   ],
   "source": [
    "# the second way to explore\n",
    "plt.imshow(x_train_all[image_order])\n",
    "plt.title(LABEL_NAMES[y_train_all[image_order][0]])\n",
    "plt.show()"
   ]
  },
  {
   "cell_type": "code",
   "execution_count": 41,
   "metadata": {},
   "outputs": [
    {
     "data": {
      "image/png": "[encoded data removed]",
      "text/plain": [
       "<Figure size 1080x360 with 10 Axes>"
      ]
     },
     "metadata": {},
     "output_type": "display_data"
    }
   ],
   "source": [
    "plt.figure(figsize=(15, 5))\n",
    "for i in range(10):\n",
    "    plt.subplot(1, 10, i+1)  # 1, row, column\n",
    "    plt.imshow(x_train_all[i])\n",
    "    plt.xticks([])\n",
    "    plt.yticks([])\n",
    "    plt.title(LABEL_NAMES[y_train_all[i][0]])\n",
    "plt.show()"
   ]
  },
  {
   "cell_type": "code",
   "execution_count": 42,
   "metadata": {},
   "outputs": [
    {
     "data": {
      "text/plain": [
       "(50000, 32, 32, 3)"
      ]
     },
     "execution_count": 42,
     "metadata": {},
     "output_type": "execute_result"
    }
   ],
   "source": [
    "x_train_all.shape  # we got 50000 picture, with 32*32 pixel and 3 channel per pixel"
   ]
  },
  {
   "cell_type": "markdown",
   "metadata": {},
   "source": [
    "# Preprocess Data"
   ]
  },
  {
   "cell_type": "code",
   "execution_count": 47,
   "metadata": {},
   "outputs": [
    {
     "data": {
      "text/plain": [
       "0.23137254901960785"
      ]
     },
     "execution_count": 47,
     "metadata": {},
     "output_type": "execute_result"
    }
   ],
   "source": [
    "x_train_all[0]  # overview picture level\n",
    "x_train_all[0][0]  # overvire pixel level\n",
    "x_train_all[0][0][0]  # each pixel color \n",
    "x_train_all[0][0][0][0]  # each color in the pixel >> 0-2"
   ]
  },
  {
   "cell_type": "code",
   "execution_count": 5,
   "metadata": {},
   "outputs": [],
   "source": [
    "x_train_all, x_test = x_train_all / 255.0, x_test / 255.0  \n",
    "# What we will get if we divide it with maximun value of RGB\n",
    "# first >> smaller number >> get range 0 - 1\n",
    "#### because of learning rate, it's very small\n",
    "#### so If the number is small, it will be easy to calculate the loss and adjusing the weight\n",
    "# second >> get float"
   ]
  },
  {
   "cell_type": "code",
   "execution_count": 6,
   "metadata": {},
   "outputs": [
    {
     "data": {
      "text/plain": [
       "(50000, 3072)"
      ]
     },
     "execution_count": 6,
     "metadata": {},
     "output_type": "execute_result"
    }
   ],
   "source": [
    "x_train_all = x_train_all.reshape(x_train_all.shape[0], TOTAL_INPUTS)\n",
    "x_test = x_test.reshape(x_test.shape[0], TOTAL_INPUTS)\n",
    "x_train_all.shape"
   ]
  },
  {
   "cell_type": "markdown",
   "metadata": {},
   "source": [
    "## Create Validation Dataset"
   ]
  },
  {
   "cell_type": "code",
   "execution_count": 38,
   "metadata": {},
   "outputs": [
    {
     "name": "stdout",
     "output_type": "stream",
     "text": [
      "x_validation' shape : (10000, 3072)\n",
      "y_validation' shape : (10000, 1)\n"
     ]
    }
   ],
   "source": [
    "x_validation = x_train_all[:VALIDATION_SIZE]\n",
    "y_validation = y_train_all[:VALIDATION_SIZE]\n",
    "print('x_validation\\' shape :', x_validation.shape)\n",
    "print('y_validation\\' shape :', y_validation.shape)"
   ]
  },
  {
   "cell_type": "code",
   "execution_count": 8,
   "metadata": {},
   "outputs": [
    {
     "name": "stdout",
     "output_type": "stream",
     "text": [
      "x_train' shape : (40000, 3072)\n",
      "y_train' shape : (40000, 1)\n"
     ]
    }
   ],
   "source": [
    "x_train = x_train_all[VALIDATION_SIZE:]\n",
    "y_train = y_train_all[VALIDATION_SIZE:]\n",
    "print('x_train\\' shape :', x_train.shape)\n",
    "print('y_train\\' shape :', y_train.shape)"
   ]
  },
  {
   "cell_type": "code",
   "execution_count": 9,
   "metadata": {},
   "outputs": [
    {
     "name": "stdout",
     "output_type": "stream",
     "text": [
      "x_train_xs' shape : (1000, 3072)\n",
      "y_train_xs' shape : (1000, 1)\n"
     ]
    }
   ],
   "source": [
    "x_train_xs = x_train[:SMALL_TRAIN_SIZE]\n",
    "y_train_xs = y_train[:SMALL_TRAIN_SIZE]\n",
    "print('x_train_xs\\' shape :', x_train_xs.shape)\n",
    "print('y_train_xs\\' shape :', y_train_xs.shape)"
   ]
  },
  {
   "cell_type": "markdown",
   "metadata": {},
   "source": [
    "# Defin the Meural Network using Keras"
   ]
  },
  {
   "cell_type": "code",
   "execution_count": 26,
   "metadata": {},
   "outputs": [],
   "source": [
    "model_1 = Sequential([\n",
    "    Dense(units=128, input_dim=TOTAL_INPUTS, activation='relu', name='m1_fh'),  # first hidden layer\n",
    "    Dense(units=64, activation='relu', name='m1_sh'),  # second hidden layer\n",
    "    Dense(units=16, activation='relu', name='m1_th'),  # third hidden layer\n",
    "    Dense(units=10, activation='softmax', name='m1_o'),  # output layer\n",
    "])\n",
    "\n",
    "model_1.compile(optimizer='adam', \n",
    "                loss='sparse_categorical_crossentropy', \n",
    "                metrics=['accuracy'])"
   ]
  },
  {
   "cell_type": "code",
   "execution_count": 27,
   "metadata": {},
   "outputs": [],
   "source": [
    "# model_1.summary()"
   ]
  },
  {
   "cell_type": "code",
   "execution_count": 28,
   "metadata": {},
   "outputs": [],
   "source": [
    "model_2 = Sequential([\n",
    "    Dropout(0.2, seed=42, input_shape=(TOTAL_INPUTS,)),  # dropout on input layer\n",
    "    Dense(units=128, activation='relu', name='m2_fh'),  # first hidden layer\n",
    "    Dense(units=64, activation='relu', name='m2_sh'),  # second hidden layer\n",
    "    Dense(units=16, activation='relu', name='m2_th'),  # third hidden layer\n",
    "    Dense(units=10, activation='softmax', name='m2_o'),  # output layer\n",
    "])\n",
    "\n",
    "model_2.compile(optimizer='adam', \n",
    "                loss='sparse_categorical_crossentropy', \n",
    "                metrics=['accuracy'])"
   ]
  },
  {
   "cell_type": "code",
   "execution_count": 29,
   "metadata": {},
   "outputs": [],
   "source": [
    "model_3 = Sequential([\n",
    "    Dropout(0.2, seed=42, input_shape=(TOTAL_INPUTS,)),  # dropout on input layer\n",
    "    Dense(units=128, activation='relu', name='m3_fh'),  # first hidden layer\n",
    "    Dropout(0.25, seed=42),  # dropout on first hidden layer\n",
    "    Dense(units=64, activation='relu', name='m3_sh'),  # second hidden layer\n",
    "    Dense(units=16, activation='relu', name='m3_th'),  # third hidden layer\n",
    "    Dense(units=10, activation='softmax', name='m3_o'),  # output layer\n",
    "])\n",
    "\n",
    "model_3.compile(optimizer='adam', \n",
    "                loss='sparse_categorical_crossentropy', \n",
    "                metrics=['accuracy'])"
   ]
  },
  {
   "cell_type": "code",
   "execution_count": 19,
   "metadata": {},
   "outputs": [
    {
     "data": {
      "text/plain": [
       "-128"
      ]
     },
     "execution_count": 19,
     "metadata": {},
     "output_type": "execute_result"
    }
   ],
   "source": [
    "# between input and first hidden layer\n",
    "TOTAL_INPUTS * 128 - 393344  # the last one we get from funtion"
   ]
  },
  {
   "cell_type": "code",
   "execution_count": 21,
   "metadata": {},
   "outputs": [
    {
     "data": {
      "text/plain": [
       "-64"
      ]
     },
     "execution_count": 21,
     "metadata": {},
     "output_type": "execute_result"
    }
   ],
   "source": [
    "# between first and second hidden layer\n",
    "128*64 - 8256"
   ]
  },
  {
   "cell_type": "code",
   "execution_count": 22,
   "metadata": {},
   "outputs": [
    {
     "data": {
      "text/plain": [
       "-16"
      ]
     },
     "execution_count": 22,
     "metadata": {},
     "output_type": "execute_result"
    }
   ],
   "source": [
    "# between second and third hidden layer\n",
    "64*16 - 1040"
   ]
  },
  {
   "cell_type": "code",
   "execution_count": 23,
   "metadata": {},
   "outputs": [
    {
     "data": {
      "text/plain": [
       "-10"
      ]
     },
     "execution_count": 23,
     "metadata": {},
     "output_type": "execute_result"
    }
   ],
   "source": [
    "16*10 - 170"
   ]
  },
  {
   "cell_type": "markdown",
   "metadata": {},
   "source": [
    "# Tensorboard (visualising leaning)"
   ]
  },
  {
   "cell_type": "code",
   "execution_count": 13,
   "metadata": {},
   "outputs": [],
   "source": [
    "def get_tensorboard(model_name):\n",
    "    folder_name = f'{model_name} at T{strftime(\"%H %M\")}'\n",
    "    dir_path = os.path.join(LOG_DIR, folder_name)\n",
    "    try:\n",
    "        os.makedirs(dir_path)\n",
    "    except OSError as err:\n",
    "        print(err)\n",
    "    else:\n",
    "        print('Succesfully create folder')\n",
    "    \n",
    "    return TensorBoard(log_dir=dir_path)"
   ]
  },
  {
   "cell_type": "markdown",
   "metadata": {},
   "source": [
    "# Fit the Model"
   ]
  },
  {
   "cell_type": "code",
   "execution_count": 14,
   "metadata": {},
   "outputs": [
    {
     "name": "stdout",
     "output_type": "stream",
     "text": [
      "Succesfully create folder\n",
      "Epoch 1/1\n",
      "1000/1000 [==============================] - 0s 152us/step - loss: 4.9076 - accuracy: 0.3150\n",
      "Wall time: 879 ms\n"
     ]
    },
    {
     "data": {
      "text/plain": [
       "<keras.callbacks.callbacks.History at 0x1f784f15188>"
      ]
     },
     "execution_count": 14,
     "metadata": {},
     "output_type": "execute_result"
    }
   ],
   "source": [
    "%%time\n",
    "model_1.fit(x_train_xs, y_train_xs, callbacks=[get_tensorboard('model_1')])  # which got low accuracy"
   ]
  },
  {
   "cell_type": "code",
   "execution_count": 27,
   "metadata": {},
   "outputs": [
    {
     "name": "stdout",
     "output_type": "stream",
     "text": [
      "Succesfully create folder\n",
      "Wall time: 8.37 s\n"
     ]
    },
    {
     "data": {
      "text/plain": [
       "<keras.callbacks.callbacks.History at 0x1f798e256c8>"
      ]
     },
     "execution_count": 27,
     "metadata": {},
     "output_type": "execute_result"
    }
   ],
   "source": [
    "%%time\n",
    "# with epoch batch_size\n",
    "epoch_number = 100\n",
    "batch_size = 1000\n",
    "model_1.fit(x_train_xs, y_train_xs, batch_size=batch_size, epochs=epoch_number,\n",
    "            callbacks=[get_tensorboard('model_1')],  # which got higher accuracy\n",
    "            verbose=0)  # not to display the output"
   ]
  },
  {
   "cell_type": "code",
   "execution_count": 24,
   "metadata": {},
   "outputs": [
    {
     "name": "stdout",
     "output_type": "stream",
     "text": [
      "Succesfully create folder\n",
      "WARNING:tensorflow:From C:\\Users\\b\\anaconda3\\lib\\site-packages\\keras\\backend\\tensorflow_backend.py:422: The name tf.global_variables is deprecated. Please use tf.compat.v1.global_variables instead.\n",
      "\n",
      "WARNING:tensorflow:From C:\\Users\\b\\anaconda3\\lib\\site-packages\\keras\\callbacks\\tensorboard_v1.py:200: The name tf.summary.merge_all is deprecated. Please use tf.compat.v1.summary.merge_all instead.\n",
      "\n",
      "WARNING:tensorflow:From C:\\Users\\b\\anaconda3\\lib\\site-packages\\keras\\callbacks\\tensorboard_v1.py:203: The name tf.summary.FileWriter is deprecated. Please use tf.compat.v1.summary.FileWriter instead.\n",
      "\n",
      "WARNING:tensorflow:From C:\\Users\\b\\anaconda3\\lib\\site-packages\\keras\\callbacks\\tensorboard_v1.py:343: The name tf.Summary is deprecated. Please use tf.compat.v1.Summary instead.\n",
      "\n",
      "Wall time: 22.8 s\n"
     ]
    },
    {
     "data": {
      "text/plain": [
       "<keras.callbacks.callbacks.History at 0x1ad45c77c88>"
      ]
     },
     "execution_count": 24,
     "metadata": {},
     "output_type": "execute_result"
    }
   ],
   "source": [
    "%%time\n",
    "# with epoch batch_size and validation\n",
    "epoch_number = 100\n",
    "batch_size = 1000\n",
    "model_1.fit(x_train_xs, y_train_xs, batch_size=batch_size, epochs=epoch_number,\n",
    "            callbacks=[get_tensorboard('model_1')],  # which got higher accuracy\n",
    "            verbose=0,  # not to display the output\n",
    "            validation_data=(x_validation, y_yalidation))"
   ]
  },
  {
   "cell_type": "code",
   "execution_count": 25,
   "metadata": {},
   "outputs": [
    {
     "name": "stdout",
     "output_type": "stream",
     "text": [
      "Succesfully create folder\n",
      "Wall time: 21.9 s\n"
     ]
    },
    {
     "data": {
      "text/plain": [
       "<keras.callbacks.callbacks.History at 0x1ad46109688>"
      ]
     },
     "execution_count": 25,
     "metadata": {},
     "output_type": "execute_result"
    }
   ],
   "source": [
    "%%time\n",
    "# with epoch batch_size and validation\n",
    "epoch_number = 100\n",
    "batch_size = 1000\n",
    "model_2.fit(x_train_xs, y_train_xs, batch_size=batch_size, epochs=epoch_number,\n",
    "            callbacks=[get_tensorboard('model_2')],  # which got higher accuracy\n",
    "            verbose=0,  # not to display the output\n",
    "            validation_data=(x_validation, y_yalidation))"
   ]
  },
  {
   "cell_type": "markdown",
   "metadata": {},
   "source": [
    "## Let do with Bigger Dataset"
   ]
  },
  {
   "cell_type": "code",
   "execution_count": 30,
   "metadata": {},
   "outputs": [
    {
     "name": "stdout",
     "output_type": "stream",
     "text": [
      "Succesfully create folder\n",
      "Wall time: 2min\n"
     ]
    },
    {
     "data": {
      "text/plain": [
       "<keras.callbacks.callbacks.History at 0x1ad49030408>"
      ]
     },
     "execution_count": 30,
     "metadata": {},
     "output_type": "execute_result"
    }
   ],
   "source": [
    "%%time\n",
    "# with epoch batch_size and validation\n",
    "epoch_number = 100\n",
    "batch_size = 1000\n",
    "model_1.fit(x_train, y_train, batch_size=batch_size, epochs=epoch_number,\n",
    "            callbacks=[get_tensorboard('model_1_xs')],\n",
    "            verbose=0,  # not to display the output\n",
    "            validation_data=(x_validation, y_validation))"
   ]
  },
  {
   "cell_type": "code",
   "execution_count": 31,
   "metadata": {},
   "outputs": [
    {
     "name": "stdout",
     "output_type": "stream",
     "text": [
      "Succesfully create folder\n",
      "Wall time: 3min 17s\n"
     ]
    },
    {
     "data": {
      "text/plain": [
       "<keras.callbacks.callbacks.History at 0x1ad4caa7648>"
      ]
     },
     "execution_count": 31,
     "metadata": {},
     "output_type": "execute_result"
    }
   ],
   "source": [
    "%%time\n",
    "# with epoch batch_size and validation\n",
    "epoch_number = 100\n",
    "batch_size = 1000\n",
    "model_2.fit(x_train, y_train, batch_size=batch_size, epochs=epoch_number,\n",
    "            callbacks=[get_tensorboard('model_2_xs')],\n",
    "            verbose=0,  # not to display the output\n",
    "            validation_data=(x_validation, y_validation))"
   ]
  },
  {
   "cell_type": "code",
   "execution_count": 32,
   "metadata": {},
   "outputs": [
    {
     "name": "stdout",
     "output_type": "stream",
     "text": [
      "Succesfully create folder\n",
      "Wall time: 3min 19s\n"
     ]
    },
    {
     "data": {
      "text/plain": [
       "<keras.callbacks.callbacks.History at 0x1ad4cd27588>"
      ]
     },
     "execution_count": 32,
     "metadata": {},
     "output_type": "execute_result"
    }
   ],
   "source": [
    "%%time\n",
    "# with epoch batch_size and validation\n",
    "epoch_number = 100\n",
    "batch_size = 1000\n",
    "model_3.fit(x_train, y_train, batch_size=batch_size, epochs=epoch_number,\n",
    "            callbacks=[get_tensorboard('model_3_xs')],\n",
    "            verbose=0,  # not to display the output\n",
    "            validation_data=(x_validation, y_validation))"
   ]
  },
  {
   "cell_type": "markdown",
   "metadata": {},
   "source": [
    "# Prediction on Individual Image"
   ]
  },
  {
   "cell_type": "code",
   "execution_count": 23,
   "metadata": {},
   "outputs": [
    {
     "name": "stdout",
     "output_type": "stream",
     "text": [
      "(10000, 3072)\n",
      "[0.23137255 0.24313725 0.24705882 ... 0.48235294 0.36078431 0.28235294]\n",
      "(1, 3072)\n"
     ]
    }
   ],
   "source": [
    "print(x_validation.shape)\n",
    "print(x_validation[0])\n",
    "test = np.expand_dims(x_validation[0], axis=0)\n",
    "print(test.shape)"
   ]
  },
  {
   "cell_type": "code",
   "execution_count": 34,
   "metadata": {},
   "outputs": [
    {
     "data": {
      "text/plain": [
       "array([[1.078e-02, 4.336e-03, 3.472e-02, 1.886e-01, 7.165e-02, 1.547e-01,\n",
       "        4.952e-01, 3.792e-02, 1.825e-04, 1.919e-03]], dtype=float32)"
      ]
     },
     "execution_count": 34,
     "metadata": {},
     "output_type": "execute_result"
    }
   ],
   "source": [
    "np.set_printoptions(precision=3)  # print only 3 decimal point\n",
    "model_2.predict(test)"
   ]
  },
  {
   "cell_type": "code",
   "execution_count": 35,
   "metadata": {},
   "outputs": [
    {
     "data": {
      "text/plain": [
       "array([[1.078e-02, 4.336e-03, 3.472e-02, ..., 3.792e-02, 1.825e-04,\n",
       "        1.919e-03],\n",
       "       [4.046e-03, 5.656e-01, 6.990e-04, ..., 1.651e-03, 9.401e-02,\n",
       "        3.301e-01],\n",
       "       [9.480e-03, 2.632e-02, 3.461e-03, ..., 2.571e-02, 3.504e-02,\n",
       "        8.795e-01],\n",
       "       ...,\n",
       "       [2.849e-02, 3.616e-01, 1.526e-03, ..., 1.706e-02, 1.356e-01,\n",
       "        4.335e-01],\n",
       "       [1.927e-02, 6.124e-01, 5.775e-02, ..., 5.927e-02, 1.614e-02,\n",
       "        1.248e-01],\n",
       "       [3.405e-03, 1.326e-04, 7.647e-02, ..., 5.766e-01, 9.681e-05,\n",
       "        6.085e-04]], dtype=float32)"
      ]
     },
     "execution_count": 35,
     "metadata": {},
     "output_type": "execute_result"
    }
   ],
   "source": [
    "model_2.predict(x_validation)"
   ]
  },
  {
   "cell_type": "code",
   "execution_count": 36,
   "metadata": {},
   "outputs": [
    {
     "data": {
      "text/plain": [
       "array([6], dtype=int64)"
      ]
     },
     "execution_count": 36,
     "metadata": {},
     "output_type": "execute_result"
    }
   ],
   "source": [
    "model_2.predict_classes(test)"
   ]
  },
  {
   "cell_type": "code",
   "execution_count": 37,
   "metadata": {},
   "outputs": [
    {
     "data": {
      "text/plain": [
       "array([6], dtype=uint8)"
      ]
     },
     "execution_count": 37,
     "metadata": {},
     "output_type": "execute_result"
    }
   ],
   "source": [
    "y_yalidation[0]  # predict correctly"
   ]
  },
  {
   "cell_type": "code",
   "execution_count": 45,
   "metadata": {},
   "outputs": [
    {
     "name": "stdout",
     "output_type": "stream",
     "text": [
      "predicted class : [6]\n",
      "actual class    : [6]    True\n",
      "predicted class : [1]\n",
      "actual class    : [9]    False\n",
      "predicted class : [9]\n",
      "actual class    : [9]    True\n",
      "predicted class : [6]\n",
      "actual class    : [4]    False\n",
      "predicted class : [1]\n",
      "actual class    : [1]    True\n",
      "predicted class : [9]\n",
      "actual class    : [1]    False\n",
      "predicted class : [4]\n",
      "actual class    : [2]    False\n",
      "predicted class : [7]\n",
      "actual class    : [7]    True\n",
      "predicted class : [8]\n",
      "actual class    : [8]    True\n",
      "predicted class : [9]\n",
      "actual class    : [3]    False\n"
     ]
    }
   ],
   "source": [
    "for i in range(10):\n",
    "    data = np.expand_dims(x_validation[i], axis=0)\n",
    "    print('predicted class :', model_2.predict_classes(data))\n",
    "    print('actual class    :', y_validation[i], '  ', model_2.predict_classes(data)[0]==y_validation[i][0])"
   ]
  },
  {
   "cell_type": "markdown",
   "metadata": {},
   "source": [
    "# Evaluation"
   ]
  },
  {
   "cell_type": "code",
   "execution_count": 46,
   "metadata": {},
   "outputs": [
    {
     "data": {
      "text/plain": [
       "['loss', 'accuracy']"
      ]
     },
     "execution_count": 46,
     "metadata": {},
     "output_type": "execute_result"
    }
   ],
   "source": [
    "model_2.metrics_names"
   ]
  },
  {
   "cell_type": "code",
   "execution_count": 49,
   "metadata": {},
   "outputs": [
    {
     "name": "stdout",
     "output_type": "stream",
     "text": [
      "10000/10000 [==============================] - 0s 33us/step\n",
      "Test loss is 1.433\n",
      "test accuracy is 0.498\n"
     ]
    }
   ],
   "source": [
    "test_loss, test_accuracy = model_2.evaluate(x_test, y_test)\n",
    "print('Test loss is {:.03f}\\ntest accuracy is {:.03f}'.format(test_loss, test_accuracy))"
   ]
  },
  {
   "cell_type": "markdown",
   "metadata": {},
   "source": [
    "# Confusion Matrix"
   ]
  },
  {
   "cell_type": "code",
   "execution_count": 74,
   "metadata": {},
   "outputs": [],
   "source": [
    "predictions = model_2.predict_classes(x_test)\n",
    "conf_matrix = confusion_matrix(y_true=y_test, y_pred=predictions)"
   ]
  },
  {
   "cell_type": "code",
   "execution_count": 75,
   "metadata": {},
   "outputs": [
    {
     "data": {
      "text/plain": [
       "array([[495,  30, 102,  35,  35,  17,  30,  33, 172,  51],\n",
       "       [ 28, 570,  21,  35,  11,  14,  22,  30,  75, 194],\n",
       "       [ 52,  16, 393,  96, 148,  48, 144,  61,  25,  17],\n",
       "       [ 21,  17,  92, 360,  69, 159, 159,  52,  27,  44],\n",
       "       [ 35,  13, 179,  58, 425,  30, 145,  76,  20,  19],\n",
       "       [ 12,   8, 110, 240,  68, 330, 111,  76,  28,  17],\n",
       "       [  3,  10,  81,  82, 114,  26, 630,  18,  10,  26],\n",
       "       [ 36,  12,  70,  67, 100,  80,  49, 534,  14,  38],\n",
       "       [ 66,  39,  30,  36,  26,  21,  13,  18, 672,  79],\n",
       "       [ 37, 154,  12,  40,  12,  19,  30,  50,  74, 572]], dtype=int64)"
      ]
     },
     "execution_count": 75,
     "metadata": {},
     "output_type": "execute_result"
    }
   ],
   "source": [
    "conf_matrix"
   ]
  },
  {
   "cell_type": "code",
   "execution_count": 85,
   "metadata": {},
   "outputs": [
    {
     "data": {
      "image/png": "[encoded data removed]",
      "text/plain": [
       "<Figure size 504x504 with 2 Axes>"
      ]
     },
     "metadata": {
      "needs_background": "light"
     },
     "output_type": "display_data"
    }
   ],
   "source": [
    "plt.figure(figsize=(7, 7))\n",
    "plt.imshow(conf_matrix, cmap=plt.cm.Greens)\n",
    "\n",
    "plt.title('Confusion Matrix', fontsize=16)\n",
    "plt.xlabel('Actual Labels', fontsize=14)\n",
    "plt.xlabel('Predicted Labels', fontsize=14)\n",
    "\n",
    "tick_marks = np.arange(len(LABEL_NAMES))\n",
    "plt.xticks(tick_marks, LABEL_NAMES)\n",
    "plt.yticks(tick_marks, LABEL_NAMES)\n",
    "\n",
    "plt.colorbar()\n",
    "\n",
    "row_number = conf_matrix.shape[0]\n",
    "column_number = conf_matrix.shape[1]\n",
    "\n",
    "for i, j in itertools.product(range(row_number), range(column_number)):\n",
    "    plt.text(j, i, conf_matrix[i, j], horizontalalignment='center', \n",
    "             color='white' if conf_matrix[i, j] > 400 else 'black')\n",
    "\n",
    "plt.show()\n",
    "# light color = row value"
   ]
  },
  {
   "cell_type": "code",
   "execution_count": 87,
   "metadata": {},
   "outputs": [
    {
     "data": {
      "text/plain": [
       "array([495, 570, 393, 360, 425, 330, 630, 534, 672, 572], dtype=int64)"
      ]
     },
     "execution_count": 87,
     "metadata": {},
     "output_type": "execute_result"
    }
   ],
   "source": [
    "true_positive = np.diag(conf_matrix)\n",
    "true_positive"
   ]
  },
  {
   "cell_type": "code",
   "execution_count": 89,
   "metadata": {},
   "outputs": [
    {
     "data": {
      "text/plain": [
       "array([0.495, 0.57 , 0.393, 0.36 , 0.425, 0.33 , 0.63 , 0.534, 0.672,\n",
       "       0.572])"
      ]
     },
     "execution_count": 89,
     "metadata": {},
     "output_type": "execute_result"
    }
   ],
   "source": [
    "recall_score = np.diag(conf_matrix) / np.sum(conf_matrix, axis=1)\n",
    "recall_score"
   ]
  },
  {
   "cell_type": "code",
   "execution_count": 91,
   "metadata": {},
   "outputs": [
    {
     "data": {
      "text/plain": [
       "array([0.631, 0.656, 0.361, 0.343, 0.422, 0.444, 0.473, 0.563, 0.602,\n",
       "       0.541])"
      ]
     },
     "execution_count": 91,
     "metadata": {},
     "output_type": "execute_result"
    }
   ],
   "source": [
    "precision = np.diag(conf_matrix) / np.sum(conf_matrix, axis=0)\n",
    "precision"
   ]
  },
  {
   "cell_type": "code",
   "execution_count": 92,
   "metadata": {},
   "outputs": [
    {
     "name": "stdout",
     "output_type": "stream",
     "text": [
      "Average recall score : 0.4981\n",
      "Average precision score : 0.5034084378296674\n",
      "f score : 0.5007401503802477\n"
     ]
    }
   ],
   "source": [
    "avg_recall_score = np.mean(recall_score)\n",
    "avg_precision = np.mean(precision) \n",
    "f_score = (2 * avg_precision * avg_recall_score) / (avg_precision + avg_recall_score)\n",
    "print('Average recall score :', avg_recall_score)\n",
    "print('Average precision score :', avg_precision)\n",
    "print('f score :', f_score)"
   ]
  },
  {
   "cell_type": "code",
   "execution_count": null,
   "metadata": {},
   "outputs": [],
   "source": []
  }
 ],
 "metadata": {
  "kernelspec": {
   "display_name": "Python 3",
   "language": "python",
   "name": "python3"
  },
  "language_info": {
   "codemirror_mode": {
    "name": "ipython",
    "version": 3
   },
   "file_extension": ".py",
   "mimetype": "text/x-python",
   "name": "python",
   "nbconvert_exporter": "python",
   "pygments_lexer": "ipython3",
   "version": "3.7.6"
  }
 },
 "nbformat": 4,
 "nbformat_minor": 4
}
