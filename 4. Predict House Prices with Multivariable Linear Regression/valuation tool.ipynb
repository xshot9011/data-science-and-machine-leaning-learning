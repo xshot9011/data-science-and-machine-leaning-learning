{
 "cells": [
  {
   "cell_type": "code",
   "execution_count": 1,
   "metadata": {},
   "outputs": [],
   "source": [
    "from sklearn.datasets import load_boston\n",
    "from sklearn.linear_model import LinearRegression\n",
    "from sklearn.metrics import mean_squared_error\n",
    "\n",
    "import pandas as pd\n",
    "import numpy as np"
   ]
  },
  {
   "cell_type": "code",
   "execution_count": 21,
   "metadata": {},
   "outputs": [
    {
     "output_type": "execute_result",
     "data": {
      "text/plain": "        CRIM    ZN  CHAS    NOX     RM     DIS  RAD    TAX  PTRATIO       B  \\\n0    0.00632  18.0   0.0  0.538  6.575  4.0900  1.0  296.0     15.3  396.90   \n1    0.02731   0.0   0.0  0.469  6.421  4.9671  2.0  242.0     17.8  396.90   \n2    0.02729   0.0   0.0  0.469  7.185  4.9671  2.0  242.0     17.8  392.83   \n3    0.03237   0.0   0.0  0.458  6.998  6.0622  3.0  222.0     18.7  394.63   \n4    0.06905   0.0   0.0  0.458  7.147  6.0622  3.0  222.0     18.7  396.90   \n..       ...   ...   ...    ...    ...     ...  ...    ...      ...     ...   \n501  0.06263   0.0   0.0  0.573  6.593  2.4786  1.0  273.0     21.0  391.99   \n502  0.04527   0.0   0.0  0.573  6.120  2.2875  1.0  273.0     21.0  396.90   \n503  0.06076   0.0   0.0  0.573  6.976  2.1675  1.0  273.0     21.0  396.90   \n504  0.10959   0.0   0.0  0.573  6.794  2.3889  1.0  273.0     21.0  393.45   \n505  0.04741   0.0   0.0  0.573  6.030  2.5050  1.0  273.0     21.0  396.90   \n\n     LSTAT  \n0     4.98  \n1     9.14  \n2     4.03  \n3     2.94  \n4     5.33  \n..     ...  \n501   9.67  \n502   9.08  \n503   5.64  \n504   6.48  \n505   7.88  \n\n[506 rows x 11 columns]",
      "text/html": "<div>\n<style scoped>\n    .dataframe tbody tr th:only-of-type {\n        vertical-align: middle;\n    }\n\n    .dataframe tbody tr th {\n        vertical-align: top;\n    }\n\n    .dataframe thead th {\n        text-align: right;\n    }\n</style>\n<table border=\"1\" class=\"dataframe\">\n  <thead>\n    <tr style=\"text-align: right;\">\n      <th></th>\n      <th>CRIM</th>\n      <th>ZN</th>\n      <th>CHAS</th>\n      <th>NOX</th>\n      <th>RM</th>\n      <th>DIS</th>\n      <th>RAD</th>\n      <th>TAX</th>\n      <th>PTRATIO</th>\n      <th>B</th>\n      <th>LSTAT</th>\n    </tr>\n  </thead>\n  <tbody>\n    <tr>\n      <th>0</th>\n      <td>0.00632</td>\n      <td>18.0</td>\n      <td>0.0</td>\n      <td>0.538</td>\n      <td>6.575</td>\n      <td>4.0900</td>\n      <td>1.0</td>\n      <td>296.0</td>\n      <td>15.3</td>\n      <td>396.90</td>\n      <td>4.98</td>\n    </tr>\n    <tr>\n      <th>1</th>\n      <td>0.02731</td>\n      <td>0.0</td>\n      <td>0.0</td>\n      <td>0.469</td>\n      <td>6.421</td>\n      <td>4.9671</td>\n      <td>2.0</td>\n      <td>242.0</td>\n      <td>17.8</td>\n      <td>396.90</td>\n      <td>9.14</td>\n    </tr>\n    <tr>\n      <th>2</th>\n      <td>0.02729</td>\n      <td>0.0</td>\n      <td>0.0</td>\n      <td>0.469</td>\n      <td>7.185</td>\n      <td>4.9671</td>\n      <td>2.0</td>\n      <td>242.0</td>\n      <td>17.8</td>\n      <td>392.83</td>\n      <td>4.03</td>\n    </tr>\n    <tr>\n      <th>3</th>\n      <td>0.03237</td>\n      <td>0.0</td>\n      <td>0.0</td>\n      <td>0.458</td>\n      <td>6.998</td>\n      <td>6.0622</td>\n      <td>3.0</td>\n      <td>222.0</td>\n      <td>18.7</td>\n      <td>394.63</td>\n      <td>2.94</td>\n    </tr>\n    <tr>\n      <th>4</th>\n      <td>0.06905</td>\n      <td>0.0</td>\n      <td>0.0</td>\n      <td>0.458</td>\n      <td>7.147</td>\n      <td>6.0622</td>\n      <td>3.0</td>\n      <td>222.0</td>\n      <td>18.7</td>\n      <td>396.90</td>\n      <td>5.33</td>\n    </tr>\n    <tr>\n      <th>...</th>\n      <td>...</td>\n      <td>...</td>\n      <td>...</td>\n      <td>...</td>\n      <td>...</td>\n      <td>...</td>\n      <td>...</td>\n      <td>...</td>\n      <td>...</td>\n      <td>...</td>\n      <td>...</td>\n    </tr>\n    <tr>\n      <th>501</th>\n      <td>0.06263</td>\n      <td>0.0</td>\n      <td>0.0</td>\n      <td>0.573</td>\n      <td>6.593</td>\n      <td>2.4786</td>\n      <td>1.0</td>\n      <td>273.0</td>\n      <td>21.0</td>\n      <td>391.99</td>\n      <td>9.67</td>\n    </tr>\n    <tr>\n      <th>502</th>\n      <td>0.04527</td>\n      <td>0.0</td>\n      <td>0.0</td>\n      <td>0.573</td>\n      <td>6.120</td>\n      <td>2.2875</td>\n      <td>1.0</td>\n      <td>273.0</td>\n      <td>21.0</td>\n      <td>396.90</td>\n      <td>9.08</td>\n    </tr>\n    <tr>\n      <th>503</th>\n      <td>0.06076</td>\n      <td>0.0</td>\n      <td>0.0</td>\n      <td>0.573</td>\n      <td>6.976</td>\n      <td>2.1675</td>\n      <td>1.0</td>\n      <td>273.0</td>\n      <td>21.0</td>\n      <td>396.90</td>\n      <td>5.64</td>\n    </tr>\n    <tr>\n      <th>504</th>\n      <td>0.10959</td>\n      <td>0.0</td>\n      <td>0.0</td>\n      <td>0.573</td>\n      <td>6.794</td>\n      <td>2.3889</td>\n      <td>1.0</td>\n      <td>273.0</td>\n      <td>21.0</td>\n      <td>393.45</td>\n      <td>6.48</td>\n    </tr>\n    <tr>\n      <th>505</th>\n      <td>0.04741</td>\n      <td>0.0</td>\n      <td>0.0</td>\n      <td>0.573</td>\n      <td>6.030</td>\n      <td>2.5050</td>\n      <td>1.0</td>\n      <td>273.0</td>\n      <td>21.0</td>\n      <td>396.90</td>\n      <td>7.88</td>\n    </tr>\n  </tbody>\n</table>\n<p>506 rows × 11 columns</p>\n</div>"
     },
     "metadata": {},
     "execution_count": 21
    }
   ],
   "source": [
    "# gather data\n",
    "boston_data = load_boston()\n",
    "df = pd.DataFrame(data=boston_data.data, columns=boston_data.feature_names)\n",
    "\n",
    "features = df.drop(['INDUS', 'AGE'], axis=1)\n",
    "log_price = np.log(boston_data.target)\n",
    "log_price = pd.DataFrame(log_price, columns=['PRICE'])\n",
    "features"
   ]
  },
  {
   "cell_type": "code",
   "execution_count": 54,
   "metadata": {},
   "outputs": [],
   "source": [
    "CRIM_INX = 0\n",
    "ZN_INX = 1\n",
    "CHAS_INX = 2\n",
    "NOX_INX = 3\n",
    "RM_INX = 4\n",
    "DIS_INX = 5\n",
    "RAD_INX = 6\n",
    "TAX_INX = 7\n",
    "PTRATIO_INX = 8\n",
    "B_INX = 9\n",
    "LSTAT_INX = 10\n",
    "#property_stats = np.ndarray(shape=[1, 11])  # 1 row with 11 colum, up to the feature shape\n",
    "#property_stats[0][CRIM_INX] = features['CRIM'].mean()\n",
    "#property_stats[0][ZN_INX] = features['ZN'].mean()\n",
    "#...\n",
    "#property_stats"
   ]
  },
  {
   "cell_type": "code",
   "execution_count": 47,
   "metadata": {
    "tags": []
   },
   "outputs": [
    {
     "output_type": "stream",
     "name": "stdout",
     "text": "<class 'pandas.core.series.Series'>\n<class 'numpy.ndarray'> has shape (11,)\n"
    },
    {
     "output_type": "execute_result",
     "data": {
      "text/plain": "array([[3.61352356e+00],\n       [1.13636364e+01],\n       [6.91699605e-02],\n       [5.54695059e-01],\n       [6.28463439e+00],\n       [3.79504269e+00],\n       [9.54940711e+00],\n       [4.08237154e+02],\n       [1.84555336e+01],\n       [3.56674032e+02],\n       [1.26530632e+01]])"
     },
     "metadata": {},
     "execution_count": 47
    }
   ],
   "source": [
    "# series bj has attribute values which givern ndarray obj\n",
    "print(type(features.mean()))  # get all the mean from features\n",
    "print(type(features.mean().values), 'has shape', features.mean().values.shape)  # but the shape must match\n",
    "features.mean().values.reshape(11, 1)"
   ]
  },
  {
   "cell_type": "code",
   "execution_count": 48,
   "metadata": {},
   "outputs": [
    {
     "output_type": "execute_result",
     "data": {
      "text/plain": "array([[3.61352356e+00, 1.13636364e+01, 6.91699605e-02, 5.54695059e-01,\n        6.28463439e+00, 3.79504269e+00, 9.54940711e+00, 4.08237154e+02,\n        1.84555336e+01, 3.56674032e+02, 1.26530632e+01]])"
     },
     "metadata": {},
     "execution_count": 48
    }
   ],
   "source": [
    "property_stats = features.mean().values.reshape(1, 11)\n",
    "property_stats  # obj for making an prediction"
   ]
  },
  {
   "cell_type": "code",
   "execution_count": 49,
   "metadata": {},
   "outputs": [],
   "source": [
    "reg = LinearRegression().fit(features, log_price)\n",
    "fitted_values = reg.predict(features)"
   ]
  },
  {
   "cell_type": "code",
   "execution_count": 67,
   "metadata": {
    "tags": []
   },
   "outputs": [
    {
     "output_type": "stream",
     "name": "stdout",
     "text": "r-square : 0.7891431041340249\nmse : 0.03516080084618688\nrmse : 0.18751213519713034\n"
    }
   ],
   "source": [
    "# calculate mse and r-square\n",
    "rsquare = reg.score(features, log_price)\n",
    "mse = mean_squared_error(log_price, reg.predict(features))\n",
    "rmse = np.sqrt(mse)\n",
    "print('r-square :', rsquare)\n",
    "print('mse :', mse)  # real price and predicted price\n",
    "print('rmse :', rmse)"
   ]
  },
  {
   "cell_type": "code",
   "execution_count": 68,
   "metadata": {},
   "outputs": [],
   "source": [
    "def get_log_estimate(number_room,\n",
    "                     student_per_classroom,\n",
    "                     is_next_to_river=False,\n",
    "                     high_confidence=True):\n",
    "    # config property\n",
    "    property_stats[0][RM_INX] = number_room\n",
    "    property_stats[0][PTRATIO_INX] = student_per_classroom\n",
    "    property_stats[0][CHAS_INX] = 1 if is_next_to_river else 0\n",
    "\n",
    "    # make prediction\n",
    "    log_estimate = reg.predict(property_stats)[0][0]\n",
    "\n",
    "    # calculate the range\n",
    "    if high_confidence:  # 2 std\n",
    "        upper_bound = log_estimate + 2*rmse\n",
    "        lowwer_cound = log_estimate - 2*rmse\n",
    "    else:  # one standard\n",
    "        upper_bound = log_estimate + 1*rmse\n",
    "        lowwer_cound = log_estimate - 1*rmse\n",
    "\n",
    "    return log_estimate, upper_bound, lowwer_cound"
   ]
  },
  {
   "cell_type": "code",
   "execution_count": 71,
   "metadata": {},
   "outputs": [
    {
     "output_type": "execute_result",
     "data": {
      "text/plain": "(10.937309436437314, 11.312333706831575, 10.562285166043052)"
     },
     "metadata": {},
     "execution_count": 71
    }
   ],
   "source": [
    "get_log_estimate(number_room=93,\n",
    "                 student_per_classroom=20,\n",
    "                 is_next_to_river=True,\n",
    "                 high_confidence=True)"
   ]
  },
  {
   "cell_type": "code",
   "execution_count": 72,
   "metadata": {},
   "outputs": [
    {
     "output_type": "execute_result",
     "data": {
      "text/plain": "21.2"
     },
     "metadata": {},
     "execution_count": 72
    }
   ],
   "source": [
    "np.median(boston_data.target)  # nowaday house is boston cause about half of millions dollar"
   ]
  },
  {
   "cell_type": "code",
   "execution_count": 84,
   "metadata": {
    "tags": []
   },
   "outputs": [
    {
     "output_type": "stream",
     "name": "stdout",
     "text": "dollar estimate : 827000.0 $\nupper bound : 1203000.0 $\nlowwer bound : 568000.0 $\n"
    }
   ],
   "source": [
    "# convert the log price estimate using 1970s\n",
    "# as well as upper and lowwer bound to today's price. round the values to the nearlest 1000 dollars\n",
    "ZILLOW_MEDIAN_PRICE = 583.3\n",
    "scale = ZILLOW_MEDIAN_PRICE/np.median(boston_data.target)\n",
    "\n",
    "log_estimate, upper_bound, lowwer_bound = get_log_estimate(number_room=9,\n",
    "                                                           student_per_classroom=15,\n",
    "                                                           is_next_to_river=False,\n",
    "                                                           high_confidence=True)\n",
    "\n",
    "# convert to today's price\n",
    "dollar_estimate = np.e**log_estimate * 1000 * scale\n",
    "dollar_estimate = dollar_estimate.round(-3)  \n",
    "upper_bound = np.e**upper_bound * 1000 * scale\n",
    "upper_bound = upper_bound.round(-3)\n",
    "lowwer_bound = np.e**lowwer_bound * 1000 * scale\n",
    "lowwer_bound = lowwer_bound.round(-3)    \n",
    "\n",
    "print('dollar estimate : {} $\\nupper bound : {} $\\nlowwer bound : {} $'.format(dollar_estimate, upper_bound, lowwer_bound))"
   ]
  },
  {
   "cell_type": "code",
   "execution_count": 100,
   "metadata": {},
   "outputs": [],
   "source": [
    "def get_dollar_estimate(number_room, student_per_classroom, is_next_to_river=False, high_confidence=True):\n",
    "    \"\"\" Estimate price in boston \n",
    "    Keyword arguments:\n",
    "    number_room -- number of room in the property\n",
    "    student_per_classroom -- number of students per teacher in the classroom for the school area\n",
    "    is_next_to_river -- True if the property is next to the river\n",
    "    high_confidence -- confidence on value price\n",
    "    \"\"\"\n",
    "    if number_room < 1 or student_per_classroom < 1:\n",
    "        return\n",
    "    ZILLOW_MEDIAN_PRICE = 583.3\n",
    "    scale = ZILLOW_MEDIAN_PRICE/np.median(boston_data.target)\n",
    "    log_estimate, upper_bound, lowwer_bound = get_log_estimate(number_room=number_room,\n",
    "                                                               student_per_classroom=student_per_classroom,\n",
    "                                                               is_next_to_river=is_next_to_river,\n",
    "                                                               high_confidence=high_confidence)\n",
    "    # convert to today's price\n",
    "    dollar_estimate = np.e**log_estimate * 1000 * scale\n",
    "    dollar_estimate = dollar_estimate.round(-3)  \n",
    "    upper_bound = np.e**upper_bound * 1000 * scale\n",
    "    upper_bound = upper_bound.round(-3)\n",
    "    lowwer_bound = np.e**lowwer_bound * 1000 * scale\n",
    "    lowwer_bound = lowwer_bound.round(-3)    \n",
    "\n",
    "    print('dollar estimate : {} $\\nupper bound : {} $\\nlowwer bound : {} $'.format(dollar_estimate, upper_bound, lowwer_bound))"
   ]
  },
  {
   "cell_type": "code",
   "execution_count": 99,
   "metadata": {
    "tags": []
   },
   "outputs": [],
   "source": [
    "get_dollar_estimate(number_room=0,\n",
    "                    student_per_classroom=200,\n",
    "                    is_next_to_river=True,\n",
    "                    high_confidence=True)"
   ]
  },
  {
   "cell_type": "code",
   "execution_count": 101,
   "metadata": {
    "tags": []
   },
   "outputs": [
    {
     "output_type": "stream",
     "name": "stdout",
     "text": "dollar estimate : 783000.0 $\nupper bound : 1139000.0 $\nlowwer bound : 538000.0 $\n"
    }
   ],
   "source": [
    "import boston_house_price as val\n",
    "\n",
    "val.get_dollar_estimate(6, 12, True)"
   ]
  },
  {
   "cell_type": "code",
   "execution_count": null,
   "metadata": {},
   "outputs": [],
   "source": []
  }
 ],
 "metadata": {
  "language_info": {
   "codemirror_mode": {
    "name": "ipython",
    "version": 3
   },
   "file_extension": ".py",
   "mimetype": "text/x-python",
   "name": "python",
   "nbconvert_exporter": "python",
   "pygments_lexer": "ipython3",
   "version": 3
  },
  "orig_nbformat": 2,
  "kernelspec": {
   "name": "python_defaultSpec_1593839473381",
   "display_name": "Python 3.7.6 64-bit ('base': conda)"
  }
 },
 "nbformat": 4,
 "nbformat_minor": 2
}